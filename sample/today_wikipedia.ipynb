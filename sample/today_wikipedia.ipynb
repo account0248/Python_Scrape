{
 "cells": [
  {
   "cell_type": "code",
   "execution_count": null,
   "id": "df4ad3af",
   "metadata": {},
   "outputs": [],
   "source": [
    "import requests\n",
    "from bs4 import BeautifulSoup\n",
    "\n",
    "url = \"https://ja.wikipedia.org\"\n",
    "\n",
    "response = requests.get(url)\n",
    "#print(response)\n",
    "\n",
    "soup = BeautifulSoup(response.content, \"html.parser\")\n",
    "#print(soup)\n",
    "\n",
    "today = soup.find(\"div\", attrs={\"id\": \"on_this_day\"}).text\n",
    "print(today)"
   ]
  },
  {
   "cell_type": "code",
   "execution_count": null,
   "id": "840177ff",
   "metadata": {},
   "outputs": [],
   "source": []
  }
 ],
 "metadata": {
  "interpreter": {
   "hash": "bf8ffbffa42428e6ca2d839fe22706e99c2b4f72a7a8a3675ca21d7d875b7aeb"
  },
  "kernelspec": {
   "display_name": "Python 3.10.1 ('.venv': venv)",
   "language": "python",
   "name": "python3"
  },
  "language_info": {
   "codemirror_mode": {
    "name": "ipython",
    "version": 3
   },
   "file_extension": ".py",
   "mimetype": "text/x-python",
   "name": "python",
   "nbconvert_exporter": "python",
   "pygments_lexer": "ipython3",
   "version": "3.10.1"
  }
 },
 "nbformat": 4,
 "nbformat_minor": 5
}
